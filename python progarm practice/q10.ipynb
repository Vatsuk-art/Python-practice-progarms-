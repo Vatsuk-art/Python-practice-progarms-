{
 "cells": [
  {
   "cell_type": "code",
   "execution_count": 3,
   "id": "7652fb44",
   "metadata": {},
   "outputs": [
    {
     "name": "stdout",
     "output_type": "stream",
     "text": [
      "enter a number 5\n",
      "enter a number 10\n",
      "a is not divisible by b.\n"
     ]
    }
   ],
   "source": [
    "#Write a program that accepts two numbers a and b and checks whether or not a is divisible by b.\n",
    "a=int(input(\"enter a number \"))\n",
    "b=int(input(\"enter a number \"))\n",
    "if a%b==0:\n",
    "    print(\"a is divisible by b.\")\n",
    "else:\n",
    "    print(\"a is not divisible by b.\")"
   ]
  },
  {
   "cell_type": "code",
   "execution_count": null,
   "id": "30b1c980",
   "metadata": {},
   "outputs": [],
   "source": []
  }
 ],
 "metadata": {
  "kernelspec": {
   "display_name": "Python 3 (ipykernel)",
   "language": "python",
   "name": "python3"
  },
  "language_info": {
   "codemirror_mode": {
    "name": "ipython",
    "version": 3
   },
   "file_extension": ".py",
   "mimetype": "text/x-python",
   "name": "python",
   "nbconvert_exporter": "python",
   "pygments_lexer": "ipython3",
   "version": "3.11.4"
  }
 },
 "nbformat": 4,
 "nbformat_minor": 5
}
