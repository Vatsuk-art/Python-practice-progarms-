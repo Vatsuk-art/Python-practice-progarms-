{
 "cells": [
  {
   "cell_type": "code",
   "execution_count": 9,
   "id": "e57c9f7c",
   "metadata": {},
   "outputs": [
    {
     "name": "stdout",
     "output_type": "stream",
     "text": [
      "enter a number 22\n",
      "1 ,1 ,2 ,3 ,5 ,8 ,13 ,21 ,"
     ]
    }
   ],
   "source": [
    "#Generate the Fibonacci series upto nth term\n",
    "n= int(input(\"enter a number \"))\n",
    "a=0\n",
    "b=1\n",
    "c=0\n",
    "while True:\n",
    "    c=a+b\n",
    "    a=b\n",
    "    b=c\n",
    "    \n",
    "    if a>=n:\n",
    "        break\n",
    "    else:\n",
    "        print(a,\",\",end=\"\")\n",
    "\n",
    "    "
   ]
  },
  {
   "cell_type": "code",
   "execution_count": null,
   "id": "fca8e62b",
   "metadata": {},
   "outputs": [],
   "source": []
  },
  {
   "cell_type": "code",
   "execution_count": null,
   "id": "43030663",
   "metadata": {},
   "outputs": [],
   "source": []
  }
 ],
 "metadata": {
  "kernelspec": {
   "display_name": "Python 3 (ipykernel)",
   "language": "python",
   "name": "python3"
  },
  "language_info": {
   "codemirror_mode": {
    "name": "ipython",
    "version": 3
   },
   "file_extension": ".py",
   "mimetype": "text/x-python",
   "name": "python",
   "nbconvert_exporter": "python",
   "pygments_lexer": "ipython3",
   "version": "3.11.4"
  }
 },
 "nbformat": 4,
 "nbformat_minor": 5
}
