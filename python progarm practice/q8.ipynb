{
 "cells": [
  {
   "cell_type": "code",
   "execution_count": null,
   "id": "40d841da",
   "metadata": {},
   "outputs": [],
   "source": [
    "#Check a given number is prime or not\n",
    "n=int(input(\"enter a number \"))\n",
    "c=0\n",
    "for i in range(1,n+1):\n",
    "    if n%i==0:\n",
    "        c+=1\n",
    "if c==2:\n",
    "    print(\"the number is prime \")\n",
    "else:\n",
    "    print(\"the numner is not prime \")"
   ]
  },
  {
   "cell_type": "code",
   "execution_count": null,
   "id": "6fda1764",
   "metadata": {},
   "outputs": [],
   "source": []
  }
 ],
 "metadata": {
  "kernelspec": {
   "display_name": "Python 3 (ipykernel)",
   "language": "python",
   "name": "python3"
  },
  "language_info": {
   "codemirror_mode": {
    "name": "ipython",
    "version": 3
   },
   "file_extension": ".py",
   "mimetype": "text/x-python",
   "name": "python",
   "nbconvert_exporter": "python",
   "pygments_lexer": "ipython3",
   "version": "3.11.4"
  }
 },
 "nbformat": 4,
 "nbformat_minor": 5
}
