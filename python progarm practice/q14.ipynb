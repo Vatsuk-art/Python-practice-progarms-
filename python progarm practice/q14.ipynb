{
 "cells": [
  {
   "cell_type": "code",
   "execution_count": 3,
   "id": "7522bd12",
   "metadata": {},
   "outputs": [
    {
     "name": "stdout",
     "output_type": "stream",
     "text": [
      "enter a number 12\n",
      "enter a number 34\n",
      "enter a number 99\n",
      "99 is the greatest integer\n"
     ]
    }
   ],
   "source": [
    "#Find the greater among three integers.\n",
    "a=int(input(\"enter a number \"))\n",
    "b=int(input(\"enter a number \"))\n",
    "c=int(input(\"enter a number \"))\n",
    "if a>b:\n",
    "    if a>c:\n",
    "        print(a,\"is the greatest integer\")\n",
    "    else:\n",
    "        print(c,\"is the greatest integer\")\n",
    "else:\n",
    "    if b>c:\n",
    "        print(b,\"is the greatest integer\")\n",
    "    else:\n",
    "        print(c,\"is the greatest integer\")\n"
   ]
  },
  {
   "cell_type": "code",
   "execution_count": null,
   "id": "ae50ca8e",
   "metadata": {},
   "outputs": [],
   "source": []
  }
 ],
 "metadata": {
  "kernelspec": {
   "display_name": "Python 3 (ipykernel)",
   "language": "python",
   "name": "python3"
  },
  "language_info": {
   "codemirror_mode": {
    "name": "ipython",
    "version": 3
   },
   "file_extension": ".py",
   "mimetype": "text/x-python",
   "name": "python",
   "nbconvert_exporter": "python",
   "pygments_lexer": "ipython3",
   "version": "3.11.4"
  }
 },
 "nbformat": 4,
 "nbformat_minor": 5
}
