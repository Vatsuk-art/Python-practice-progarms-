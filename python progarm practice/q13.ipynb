{
 "cells": [
  {
   "cell_type": "code",
   "execution_count": null,
   "id": "a8742ec3",
   "metadata": {},
   "outputs": [],
   "source": [
    "s=int(input(\"enter your salary\"))\n",
    "g=input(\"enter your grade\")\n",
    "if g ==\"A\":\n",
    "    a=300\n",
    "elif g==\"B\":\n",
    "    a=250\n",
    "else:\n",
    "    a=100\n",
    "ts=s+a\n",
    "print(\"total salary = \",ts)\n"
   ]
  }
 ],
 "metadata": {
  "kernelspec": {
   "display_name": "Python 3 (ipykernel)",
   "language": "python",
   "name": "python3"
  },
  "language_info": {
   "codemirror_mode": {
    "name": "ipython",
    "version": 3
   },
   "file_extension": ".py",
   "mimetype": "text/x-python",
   "name": "python",
   "nbconvert_exporter": "python",
   "pygments_lexer": "ipython3",
   "version": "3.11.4"
  }
 },
 "nbformat": 4,
 "nbformat_minor": 5
}
