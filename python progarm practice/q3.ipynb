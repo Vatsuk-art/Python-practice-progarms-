{
 "cells": [
  {
   "cell_type": "code",
   "execution_count": 1,
   "id": "b13f1238",
   "metadata": {},
   "outputs": [
    {
     "name": "stdout",
     "output_type": "stream",
     "text": [
      "enter a number10\n",
      "enter a number5\n",
      "addition of 10 and 5 is 15\n",
      "subtraction of 10 and 5 is 5\n",
      "multiplication of 10 and 5 is 50\n",
      "division of 10 and 5 is 2.0\n",
      "modulus of 10 and and 5 is 0\n"
     ]
    }
   ],
   "source": [
    "#Take two integers and print their- Addition, Subtraction, Multiplication, Division, modulus\n",
    "a=int(input(\"enter a number\"))\n",
    "b=int(input(\"enter a number\"))\n",
    "s=a+b\n",
    "p=a*b\n",
    "f=a/b\n",
    "k=a-b\n",
    "m=a%b\n",
    "print(\"addition of\",a,\"and\",b,\"is\",s)\n",
    "print(\"subtraction of\",a,\"and\",b,\"is\",k)\n",
    "print(\"multiplication of\",a,\"and\",b,\"is\",p)\n",
    "print(\"division of\",a,\"and\",b,\"is\",f)\n",
    "print(\"modulus of\",a,\"and\",\"and\",b,\"is\",m)\n"
   ]
  },
  {
   "cell_type": "code",
   "execution_count": null,
   "id": "9e8179b6",
   "metadata": {},
   "outputs": [],
   "source": []
  }
 ],
 "metadata": {
  "kernelspec": {
   "display_name": "Python 3 (ipykernel)",
   "language": "python",
   "name": "python3"
  },
  "language_info": {
   "codemirror_mode": {
    "name": "ipython",
    "version": 3
   },
   "file_extension": ".py",
   "mimetype": "text/x-python",
   "name": "python",
   "nbconvert_exporter": "python",
   "pygments_lexer": "ipython3",
   "version": "3.11.4"
  }
 },
 "nbformat": 4,
 "nbformat_minor": 5
}
