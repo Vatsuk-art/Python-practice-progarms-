{
 "cells": [
  {
   "cell_type": "code",
   "execution_count": 3,
   "id": "8adee661",
   "metadata": {},
   "outputs": [
    {
     "name": "stdout",
     "output_type": "stream",
     "text": [
      "enter a the larger number 6\n",
      "enter  the smaller number 4\n",
      "Difference is not equal to any of the values entered\n"
     ]
    }
   ],
   "source": [
    "'''Write a program to accept 2 numbers. Calculate the difference between the two values. If the\n",
    "difference is equal to any of the values entered, then display the following message: Difference is\n",
    "equal to value If the difference is not equal to any of the values entered, display the following\n",
    "message: Difference is not equal to any of the values entered'''\n",
    "n=int(input(\"enter a the larger number \"))\n",
    "m=int(input(\"enter  the smaller number \"))\n",
    "s=n-m\n",
    "if s==m or s==n:\n",
    "    print(\"Difference is equal to value \")\n",
    "else:\n",
    "    print(\"Difference is not equal to any of the values entered\")"
   ]
  },
  {
   "cell_type": "code",
   "execution_count": null,
   "id": "f8e06eb1",
   "metadata": {},
   "outputs": [],
   "source": []
  }
 ],
 "metadata": {
  "kernelspec": {
   "display_name": "Python 3 (ipykernel)",
   "language": "python",
   "name": "python3"
  },
  "language_info": {
   "codemirror_mode": {
    "name": "ipython",
    "version": 3
   },
   "file_extension": ".py",
   "mimetype": "text/x-python",
   "name": "python",
   "nbconvert_exporter": "python",
   "pygments_lexer": "ipython3",
   "version": "3.11.4"
  }
 },
 "nbformat": 4,
 "nbformat_minor": 5
}
