{
 "cells": [
  {
   "cell_type": "code",
   "execution_count": null,
   "id": "07e6bcee",
   "metadata": {},
   "outputs": [],
   "source": [
    "#Convert a Fahrenheit temperature to its equivalent Celsius Scale.\n",
    "f=float(input(\"enter temperature in fahrenheit \"))\n",
    "c=((f-32)*5)/9\n",
    "print()"
   ]
  }
 ],
 "metadata": {
  "kernelspec": {
   "display_name": "Python 3 (ipykernel)",
   "language": "python",
   "name": "python3"
  },
  "language_info": {
   "codemirror_mode": {
    "name": "ipython",
    "version": 3
   },
   "file_extension": ".py",
   "mimetype": "text/x-python",
   "name": "python",
   "nbconvert_exporter": "python",
   "pygments_lexer": "ipython3",
   "version": "3.11.4"
  }
 },
 "nbformat": 4,
 "nbformat_minor": 5
}
