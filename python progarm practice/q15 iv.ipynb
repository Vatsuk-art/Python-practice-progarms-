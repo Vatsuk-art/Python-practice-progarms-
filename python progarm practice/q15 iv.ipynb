{
 "cells": [
  {
   "cell_type": "code",
   "execution_count": null,
   "id": "880cc85f",
   "metadata": {},
   "outputs": [],
   "source": [
    "#1+1/2+1/3+1/4.....1/n\n",
    "n=int(input(\"enter the number till which you want to generate the series \"))\n",
    "for i in range(1,n+1):\n",
    "    if i==n:\n",
    "        print(\"1/\",n)\n",
    "    else:\n",
    "        print(\"1/\",i,\"+\",end=\"\")\n"
   ]
  }
 ],
 "metadata": {
  "kernelspec": {
   "display_name": "Python 3 (ipykernel)",
   "language": "python",
   "name": "python3"
  },
  "language_info": {
   "codemirror_mode": {
    "name": "ipython",
    "version": 3
   },
   "file_extension": ".py",
   "mimetype": "text/x-python",
   "name": "python",
   "nbconvert_exporter": "python",
   "pygments_lexer": "ipython3",
   "version": "3.11.4"
  }
 },
 "nbformat": 4,
 "nbformat_minor": 5
}
