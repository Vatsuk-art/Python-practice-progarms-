{
 "cells": [
  {
   "cell_type": "code",
   "execution_count": 2,
   "id": "6006fe47",
   "metadata": {},
   "outputs": [
    {
     "name": "stdout",
     "output_type": "stream",
     "text": [
      "enter a number 3\n",
      "enter another number 2\n",
      "product of 2 and 3 is nor greater than 1000 nor equal to 1000\n"
     ]
    }
   ],
   "source": [
    "#Write a program to accept 2 numbers and tell whether the product of the two numbers is equal to\n",
    "#or greater than 1000.\n",
    "n=int(input('enter a number '))\n",
    "m=int(input(\"enter another number \"))\n",
    "if (m*n)>1000:\n",
    "    print(\"product of\",m,\"and\",n,\"is greater than 1000\")\n",
    "elif (m*n)==1000:\n",
    "    print(\"product of\",m,\"and\",n,\"is equal to 1000\")\n",
    "else:\n",
    "    print(\"product of\",m,\"and\",n,\"is neither greater than 1000 nor equal to 1000\")"
   ]
  },
  {
   "cell_type": "code",
   "execution_count": null,
   "id": "730f87e5",
   "metadata": {},
   "outputs": [],
   "source": []
  }
 ],
 "metadata": {
  "kernelspec": {
   "display_name": "Python 3 (ipykernel)",
   "language": "python",
   "name": "python3"
  },
  "language_info": {
   "codemirror_mode": {
    "name": "ipython",
    "version": 3
   },
   "file_extension": ".py",
   "mimetype": "text/x-python",
   "name": "python",
   "nbconvert_exporter": "python",
   "pygments_lexer": "ipython3",
   "version": "3.11.4"
  }
 },
 "nbformat": 4,
 "nbformat_minor": 5
}
