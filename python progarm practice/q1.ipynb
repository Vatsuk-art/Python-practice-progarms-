{
 "cells": [
  {
   "cell_type": "code",
   "execution_count": null,
   "id": "4a4caac8",
   "metadata": {},
   "outputs": [],
   "source": [
    "#Calculate the area of a – Square, Rectangle, Circle\n",
    "s=int(input(\"enter side of a square\"))\n",
    "l=int(input(\"enter length of a rectangle\"))\n",
    "b=int(input(\"enter breadth of a rectangle\"))\n",
    "r=int(input(\"enter radius of a cirlce\"))\n",
    "a1=s*s\n",
    "a2=l*b\n",
    "a3=3.14*r*r\n",
    "print(\"area of square =  \",a1)\n",
    "print(\"area of rectangle =  \",a2)\n",
    "print(\"area of circle = \",a3)"
   ]
  },
  {
   "cell_type": "code",
   "execution_count": null,
   "id": "c5d6dc06",
   "metadata": {},
   "outputs": [],
   "source": []
  }
 ],
 "metadata": {
  "kernelspec": {
   "display_name": "Python 3 (ipykernel)",
   "language": "python",
   "name": "python3"
  },
  "language_info": {
   "codemirror_mode": {
    "name": "ipython",
    "version": 3
   },
   "file_extension": ".py",
   "mimetype": "text/x-python",
   "name": "python",
   "nbconvert_exporter": "python",
   "pygments_lexer": "ipython3",
   "version": "3.11.4"
  }
 },
 "nbformat": 4,
 "nbformat_minor": 5
}
