{
 "cells": [
  {
   "cell_type": "code",
   "execution_count": 1,
   "id": "309e76c1",
   "metadata": {},
   "outputs": [
    {
     "name": "stdout",
     "output_type": "stream",
     "text": [
      "enter the cost price 50\n",
      "enter the selling price100\n",
      "profit =  50\n"
     ]
    }
   ],
   "source": [
    "#Calculate percentage of profit. Ask selling and purchasing price\n",
    "cp=int(input(\"enter the cost price \"))\n",
    "sp=int(input(\"enter the selling price\"))\n",
    "p=sp-cp\n",
    "print(\"profit = \",p)\n"
   ]
  },
  {
   "cell_type": "code",
   "execution_count": null,
   "id": "06a73658",
   "metadata": {},
   "outputs": [],
   "source": []
  }
 ],
 "metadata": {
  "kernelspec": {
   "display_name": "Python 3 (ipykernel)",
   "language": "python",
   "name": "python3"
  },
  "language_info": {
   "codemirror_mode": {
    "name": "ipython",
    "version": 3
   },
   "file_extension": ".py",
   "mimetype": "text/x-python",
   "name": "python",
   "nbconvert_exporter": "python",
   "pygments_lexer": "ipython3",
   "version": "3.11.4"
  }
 },
 "nbformat": 4,
 "nbformat_minor": 5
}
